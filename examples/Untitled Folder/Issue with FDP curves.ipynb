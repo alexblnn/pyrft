{
 "cells": [
  {
   "cell_type": "markdown",
   "metadata": {},
   "source": [
    "### Issue with the varying FDP curves"
   ]
  },
  {
   "cell_type": "code",
   "execution_count": 55,
   "metadata": {},
   "outputs": [],
   "source": [
    "import numpy as np\n",
    "import numpy.matlib as npm\n",
    "import sys\n",
    "import matplotlib.pyplot as plt \n",
    "\n",
    "import sanssouci as sa\n",
    "\n",
    "import random"
   ]
  },
  {
   "cell_type": "code",
   "execution_count": 66,
   "metadata": {},
   "outputs": [],
   "source": [
    "random.seed(a=2022)\n",
    "\n",
    "m = 2000         # number of variables     (eg : number of voxels in an image)\n",
    "n = 80            # number of observations  (eg : number of images)\n",
    "pi0 = 0.9       # proportion of noise (true null hypotheses)\n",
    "p0 = int(np.round(pi0*m)) # number of true null hypotheses (non active voxels)\n",
    "rho = 0.3        # equi-correlation\n",
    "s = 1             # signal to noise ratio (because sigma is 1 CHECK!)\n",
    "\n",
    "# generate noise\n",
    "Z=np.random.randn(n,m)\n",
    "w=np.random.randn(n)\n",
    "W=Z.copy()\n",
    "for i in range(m):\n",
    "  W[:,i]=w[:] # W has the same w for each subject to ensure the dependence\n",
    "Y=np.sqrt(1-rho)*Z + np.sqrt(rho)*W\n",
    "\n",
    "# cov(Y_n(v), Y_m(v)) = E( sqrt(1-rho)z_n + sqrt(rho)*w,sqrt(1-rho)z_m + sqrt(rho)*w) = (1-rho)delta_{nm} + rho\n",
    "# (as var(w) = 1 = var(z_n) = var(z_m)) (so the text above is wrong!)\n",
    "\n",
    "# add signal (for false null hypotheses)\n",
    "categ=np.random.binomial(1, 0.5, size=n) # Equal probability of each - but ususally not balanced in fact!\n",
    "data = Y.copy()\n",
    "w1=np.where(categ==1)\n"
   ]
  },
  {
   "cell_type": "markdown",
   "metadata": {},
   "source": [
    "Can toggle this to see the effect of signal"
   ]
  },
  {
   "cell_type": "code",
   "execution_count": 67,
   "metadata": {},
   "outputs": [],
   "source": [
    "# Add signal to the data when the category is 1! :) \n",
    "data[w1, (p0+1):m] = Y[w1, (p0+1):m] - s"
   ]
  },
  {
   "cell_type": "code",
   "execution_count": 68,
   "metadata": {},
   "outputs": [
    {
     "data": {
      "text/plain": [
       "(array([384., 179., 184., 177., 172., 186., 191., 182., 162., 183.]),\n",
       " array([5.18740606e-11, 9.99836726e-02, 1.99967345e-01, 2.99951018e-01,\n",
       "        3.99934690e-01, 4.99918363e-01, 5.99902035e-01, 6.99885708e-01,\n",
       "        7.99869381e-01, 8.99853053e-01, 9.99836726e-01]),\n",
       " <a list of 10 Patch objects>)"
      ]
     },
     "execution_count": 68,
     "metadata": {},
     "output_type": "execute_result"
    },
    {
     "data": {
      "image/png": "[encoded data removed]",
      "text/plain": [
       "<Figure size 432x288 with 1 Axes>"
      ]
     },
     "metadata": {
      "needs_background": "light"
     },
     "output_type": "display_data"
    }
   ],
   "source": [
    "rwt = sa.row_welch_tests(data, categ)\n",
    "pvals_perm = rwt['p_value']\n",
    "plt.hist(pvals_perm)"
   ]
  },
  {
   "cell_type": "code",
   "execution_count": 78,
   "metadata": {},
   "outputs": [
    {
     "name": "stdout",
     "output_type": "stream",
     "text": [
      "[0.  0.1 0.2 0.3 0.4 0.5 0.6 0.7 0.8 0.9]\n",
      "The input p-values were not sorted -> this is done now\n",
      "The input p-values were not sorted -> this is done now\n",
      "The input p-values were not sorted -> this is done now\n",
      "The input p-values were not sorted -> this is done now\n",
      "The input p-values were not sorted -> this is done now\n",
      "The input p-values were not sorted -> this is done now\n",
      "The input p-values were not sorted -> this is done now\n",
      "The input p-values were not sorted -> this is done now\n",
      "The input p-values were not sorted -> this is done now\n",
      "The input p-values were not sorted -> this is done now\n"
     ]
    },
    {
     "data": {
      "image/png": "[encoded data removed]",
      "text/plain": [
       "<Figure size 432x288 with 1 Axes>"
      ]
     },
     "metadata": {
      "needs_background": "light"
     },
     "output_type": "display_data"
    }
   ],
   "source": [
    "lambda_set = np.arange(10)/10\n",
    "print(lambda_set)\n",
    "for I in np.arange(len(lambda_set)):\n",
    "    thresh = sa.t_linear(lambda_set[I], np.arange(1,m+1), m)\n",
    "    max_FDP_perm = sa.curve_max_fp(pvals_perm, thresh)\n",
    "    plt.plot(max_FDP_perm)\n"
   ]
  },
  {
   "cell_type": "markdown",
   "metadata": {},
   "source": [
    "Calculate relevant lambda using permutation"
   ]
  },
  {
   "cell_type": "code",
   "execution_count": 70,
   "metadata": {},
   "outputs": [
    {
     "name": "stdout",
     "output_type": "stream",
     "text": [
      "Lambda Perm: 0.17261982120186925\n"
     ]
    }
   ],
   "source": [
    "# Initialize the number of bootstraps and the alpha level\n",
    "B = 100; alpha = 0.1;\n",
    "pval0 = sa.get_perm_p(data, categ, B=B , row_test_fun=sa.row_welch_tests)\n",
    "piv_stat = sa.get_pivotal_stats(pval0, K=m)\n",
    "lambda_perm = np.quantile(piv_stat, alpha)\n",
    "\n",
    "print('Lambda Perm:', lambda_perm)\n",
    "thr_perm = sa.t_linear(lambda_perm, np.arange(1,m+1), m)"
   ]
  }
 ],
 "metadata": {
  "kernelspec": {
   "display_name": "Python 3",
   "language": "python",
   "name": "python3"
  },
  "language_info": {
   "codemirror_mode": {
    "name": "ipython",
    "version": 3
   },
   "file_extension": ".py",
   "mimetype": "text/x-python",
   "name": "python",
   "nbconvert_exporter": "python",
   "pygments_lexer": "ipython3",
   "version": "3.8.3"
  }
 },
 "nbformat": 4,
 "nbformat_minor": 4
}
