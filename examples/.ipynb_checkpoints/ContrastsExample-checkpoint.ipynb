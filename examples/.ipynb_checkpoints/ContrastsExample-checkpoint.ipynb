{
 "cells": [
  {
   "cell_type": "markdown",
   "metadata": {},
   "source": [
    "# Posthoc Inference on Contrasts\n",
    "\n",
    "In this notebook, we provide examples of how to run posthoc inference to infer on contrasts in the linear model."
   ]
  },
  {
   "cell_type": "markdown",
   "metadata": {},
   "source": [
    "## Set Up"
   ]
  },
  {
   "cell_type": "markdown",
   "metadata": {},
   "source": [
    "#### Import the required python packages."
   ]
  },
  {
   "cell_type": "code",
   "execution_count": 1,
   "metadata": {},
   "outputs": [],
   "source": [
    "import numpy as np\n",
    "import numpy.matlib as npm\n",
    "import sys\n",
    "import matplotlib.pyplot as plt \n",
    "\n",
    "sys.path.insert(0, 'C:\\\\Users\\\\12SDa\\\\global\\\\Intern\\\\SanSouciCode')\n",
    "import sanssouci as ss\n",
    "\n",
    "sys.path.insert(0, 'C:\\\\Users\\\\12SDa\\\\davenpor\\\\davenpor\\\\Toolboxes\\\\pyrft' )\n",
    "import pyrft as pr"
   ]
  },
  {
   "cell_type": "markdown",
   "metadata": {},
   "source": [
    "#### Initialize the example"
   ]
  },
  {
   "cell_type": "code",
   "execution_count": 2,
   "metadata": {},
   "outputs": [],
   "source": [
    "# Set the dimension of the example and the number of subjects\n",
    "Dim = (50,50); N = 30; m = np.prod(Dim)\n",
    "\n",
    "# Generate the category vector and obtain the corresponding design matrix\n",
    "from sklearn.utils import check_random_state\n",
    "rng = check_random_state(101)\n",
    "categ = rng.choice(3, N, replace = True)\n",
    "X = pr.groupX(categ); \n",
    "\n",
    "# Specify the contrast matrix (here 2 contrasts are chosen)\n",
    "C = np.array([[1,-1,0],[0,1,-1]]); \n",
    "\n",
    "# Calulate the number contrasts\n",
    "L = C.shape[0]\n",
    "\n",
    "# Calculate the number of p-values generated (L for each voxels)\n",
    "npvals = m*L\n",
    "\n",
    "# Generate a white noise field\n",
    "lat_data = pr.wfield(Dim,N)"
   ]
  },
  {
   "cell_type": "markdown",
   "metadata": {},
   "source": [
    "### Add signal to the field"
   ]
  },
  {
   "cell_type": "code",
   "execution_count": 3,
   "metadata": {},
   "outputs": [],
   "source": [
    "# Obtain the locations where the category is 2\n",
    "w2 = np.where(categ==2)[0]\n",
    "\n",
    "# Initialize the spatial signal\n",
    "pi0 = 0.9  # proportion of noise (true null hypotheses)\n",
    "p0 = int(np.round(pi0*m))\n",
    "signal = np.zeros(m)\n",
    "signal[(p0+1):m] = 1\n",
    "signal = signal.reshape(Dim)\n",
    "\n",
    "# Add the signal to the field\n",
    "for I in np.arange(len(w2)):\n",
    "    lat_data.field[:,:,w2[I]] = lat_data.field[:,:,w2[I]] + signal"
   ]
  },
  {
   "cell_type": "markdown",
   "metadata": {},
   "source": [
    "## Posthoc Inference"
   ]
  },
  {
   "cell_type": "markdown",
   "metadata": {},
   "source": [
    "### Bootstrapping the Data"
   ]
  },
  {
   "cell_type": "markdown",
   "metadata": {},
   "source": [
    "Bootstrapping is performed using the residuals of the linear model. This gives test-statistics that have the same asymptotic distribution as the limiting test-statistic (under the null). See Eck 2017 and Freedman 1981 for further details. In our context we use these to obtain bootstrapped pivotal statistics which allow us to obtain asymptotic JER control."
   ]
  },
  {
   "cell_type": "code",
   "execution_count": 4,
   "metadata": {},
   "outputs": [],
   "source": [
    "# Specify the number of bootstraps to use\n",
    "B = 100\n",
    "\n",
    "# Run the bootstrapped algorithm\n",
    "minPperm, orig_pvalues, pivotal_stats, bs = pr.boot_contrasts(lat_data, X, C, B, ss.t_inv_linear, True, 1):"
   ]
  },
  {
   "cell_type": "markdown",
   "metadata": {},
   "source": [
    "### Plotting the p-values"
   ]
  },
  {
   "cell_type": "code",
   "execution_count": 236,
   "metadata": {},
   "outputs": [
    {
     "data": {
      "image/png": "[encoded data removed]",
      "text/plain": [
       "<Figure size 432x288 with 2 Axes>"
      ]
     },
     "metadata": {
      "needs_background": "light"
     },
     "output_type": "display_data"
    }
   ],
   "source": [
    "pvals = np.sort(np.ravel(orig_pvalues.field))\n",
    "\n",
    "figure, axes = plt.subplots(nrows=1, ncols=2) \n",
    "plt.subplot(121)\n",
    "plt.hist(np.ravel(orig_pvalues.field), 100);\n",
    "plt.title('Histogram of the p-values');\n",
    "plt.ylabel('Counts');\n",
    "\n",
    "plt.subplot(122)\n",
    "plt.plot(pvals[:np.min([1000, npvals])])\n",
    "plt.title('Smallest 1000 p-values')\n",
    "plt.xlabel('k')\n",
    "plt.ylabel('p_{(k)}')\n",
    "\n",
    "figure.tight_layout(pad=3.0)"
   ]
  },
  {
   "cell_type": "markdown",
   "metadata": {},
   "source": [
    "### Lambda Calibration"
   ]
  },
  {
   "cell_type": "markdown",
   "metadata": {},
   "source": [
    "Using the bootstrapped pivotal_stats that we have calculated we can choose a value lambda that is the (alpha)% quantile (for some 0 < alpha < 1) of the distribution in order to provide asymptotic JER control at a level alpha."
   ]
  },
  {
   "cell_type": "code",
   "execution_count": 237,
   "metadata": {},
   "outputs": [
    {
     "name": "stdout",
     "output_type": "stream",
     "text": [
      "Lambda Quantile: 0.2400582912354121\n"
     ]
    }
   ],
   "source": [
    "# Choose the confidence level\n",
    "alpha = 0.1\n",
    "\n",
    "# Obtain the lambda calibration\n",
    "lambda_quant = np.quantile(pivotal_stats, alpha)\n",
    "print('Lambda Quantile:', lambda_quant)\n",
    "\n",
    "# Calculate the number of voxels in the mask\n",
    "m = np.sum(lat_data.mask[:])\n",
    "\n",
    "# Gives t_k^L(lambda) = lambda*k/m for k = 1, ..., m\n",
    "thr = ss.t_linear(lambda_quant, np.arange(1,m+1), m)"
   ]
  },
  {
   "cell_type": "markdown",
   "metadata": {},
   "source": [
    "### PostHoc Bound"
   ]
  },
  {
   "cell_type": "markdown",
   "metadata": {},
   "source": [
    "For a chosen subset of voxels, provide a bound on the number of true null hypotheses within that subset. "
   ]
  },
  {
   "cell_type": "code",
   "execution_count": 238,
   "metadata": {},
   "outputs": [
    {
     "name": "stdout",
     "output_type": "stream",
     "text": [
      "FP Upper Bound on subset: 4.0\n"
     ]
    }
   ],
   "source": [
    "# Get the first 10 pvalues (or any subset of the p-values)\n",
    "subset_pvals = np.sort(np.ravel(orig_pvalues.field))[:10]\n",
    "\n",
    "# Compute an upper bound on the number of null hypotheses\n",
    "bound = ss.max_fp(subset_pvals, thr)\n",
    "print('FP Upper Bound on subset:', bound)"
   ]
  },
  {
   "cell_type": "markdown",
   "metadata": {},
   "source": [
    "### Confidence Envelopes"
   ]
  },
  {
   "cell_type": "code",
   "execution_count": 239,
   "metadata": {},
   "outputs": [
    {
     "name": "stdout",
     "output_type": "stream",
     "text": [
      "[0. 0. 0. 0. 0. 1. 1. 2. 3. 4.]\n",
      "[  0.   0.   0.   0.   0.   1.   1.   2.   3.   4.   5.   6.   7.   8.\n",
      "   9.  10.  11.  12.  13.  13.  14.  15.  16.  17.  18.  19.  20.  21.\n",
      "  22.  23.  24.  25.  26.  27.  27.  27.  27.  28.  28.  29.  30.  30.\n",
      "  31.  32.  33.  34.  35.  36.  37.  38.  39.  40.  41.  42.  43.  44.\n",
      "  45.  46.  47.  48.  49.  50.  51.  52.  53.  54.  55.  56.  57.  58.\n",
      "  59.  60.  61.  62.  63.  64.  65.  66.  67.  68.  69.  70.  71.  72.\n",
      "  73.  74.  75.  76.  77.  78.  79.  80.  81.  82.  83.  84.  85.  86.\n",
      "  87.  88.  89.  90.  91.  92.  93.  94.  95.  96.  97.  98.  99. 100.\n",
      " 101. 102. 103. 104. 105. 106. 107. 108. 109. 110. 111. 112. 113. 114.\n",
      " 115. 116. 117. 118. 119. 120. 121. 122. 123. 124. 125. 126. 127. 128.\n",
      " 129. 130. 131. 132. 133. 134. 135. 136. 137. 138. 139. 140. 141. 142.\n",
      " 143. 144. 145. 146. 147. 148. 149. 150. 151. 152. 153. 154. 155. 156.\n",
      " 157. 158. 159. 160. 161. 162. 163. 164. 165. 166. 167. 168. 169. 170.\n",
      " 171. 172. 173. 174. 175. 176. 177. 178. 179. 180. 181. 182. 183. 184.\n",
      " 185. 186. 187. 188.]\n"
     ]
    }
   ],
   "source": [
    "# These are the confidence envelopes. I.e. for i = 1:npvals, max_FP[i-1] is the upper bound on the number of \n",
    "# false positives that occur within the set [p[0], \\dots, p[i-1]] if you were to reject all elements of that set.\n",
    "max_FP = ss.curve_max_fp(subset_pvals, thr) # Confidence envelope on the chosen subset\n",
    "print(max_FP)\n",
    "max_FP = ss.curve_max_fp(pvals, thr) # Confidence envelope on all of them\n",
    "print(max_FP[0:200])"
   ]
  },
  {
   "cell_type": "code",
   "execution_count": 249,
   "metadata": {},
   "outputs": [
    {
     "data": {
      "image/png": "[encoded data removed]",
      "text/plain": [
       "<Figure size 432x288 with 2 Axes>"
      ]
     },
     "metadata": {
      "needs_background": "light"
     },
     "output_type": "display_data"
    },
    {
     "data": {
      "text/plain": [
       "<Figure size 1.4472e+06x720 with 0 Axes>"
      ]
     },
     "metadata": {},
     "output_type": "display_data"
    }
   ],
   "source": [
    "# Generate the vector [0,...,npvals]\n",
    "one2npvals = np.arange(1, npvals+1)\n",
    "\n",
    "# Choose the number of the lowest p-values to look at\n",
    "lowestnumber = np.min([1000, npvals])\n",
    "\n",
    "# Dividing the envelope by the number of elements in the set gives a bound on the false discovery proportion\n",
    "max_FDP = max_FP[0:lowestnumber]/ one2npvals[0:lowestnumber] \n",
    "min_TP = one2npvals[0:lowestnumber] - max_FP[0:lowestnumber]\n",
    "figure, axes = plt.subplots(nrows=1, ncols=2) \n",
    "plt.subplot(121)\n",
    "plt.plot(max_FDP)\n",
    "plt.title('Upper bound on FDP amongst smallest p-values')\n",
    "plt.xlim(1, lowestnumber)\n",
    "plt.xlabel('k')\n",
    "plt.ylabel('FDP(p_{(1)}, \\dots, p_{(k)}')\n",
    "plt.subplot(122)\n",
    "plt.plot(min_TP)\n",
    "plt.title('Lower bound on TP')\n",
    "plt.xlim(1, lowestnumber)\n",
    "plt.xlabel('k')\n",
    "plt.ylabel('TP(p_{(1)}, \\dots, p_{(k)}')\n",
    "plt.figure(figsize=(20100,10))\n",
    "figure.tight_layout(pad=2.0)\n"
   ]
  },
  {
   "cell_type": "markdown",
   "metadata": {},
   "source": [
    "### Bootstrap paths"
   ]
  }
 ],
 "metadata": {
  "kernelspec": {
   "display_name": "Python 3",
   "language": "python",
   "name": "python3"
  },
  "language_info": {
   "codemirror_mode": {
    "name": "ipython",
    "version": 3
   },
   "file_extension": ".py",
   "mimetype": "text/x-python",
   "name": "python",
   "nbconvert_exporter": "python",
   "pygments_lexer": "ipython3",
   "version": "3.8.3"
  }
 },
 "nbformat": 4,
 "nbformat_minor": 4
}
