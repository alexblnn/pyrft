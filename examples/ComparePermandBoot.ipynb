{
 "cells": [
  {
   "cell_type": "markdown",
   "metadata": {},
   "source": [
    "# Comparing Permutation and Bootstrap"
   ]
  },
  {
   "cell_type": "markdown",
   "metadata": {},
   "source": [
    "In this notebook we compare the permutation and bootstrap JER control methods in the two sample case."
   ]
  },
  {
   "cell_type": "code",
   "execution_count": 1,
   "metadata": {},
   "outputs": [],
   "source": [
    "import numpy as np\n",
    "import numpy.matlib as npm\n",
    "import sys\n",
    "import matplotlib.pyplot as plt \n",
    "\n",
    "import sanssouci as sa\n",
    "\n",
    "import pyrft as pr\n",
    "import random"
   ]
  },
  {
   "cell_type": "markdown",
   "metadata": {},
   "source": [
    "### Initialize the example (using the equi-corr example here)"
   ]
  },
  {
   "cell_type": "code",
   "execution_count": 2,
   "metadata": {},
   "outputs": [
    {
     "data": {
      "text/plain": [
       "array([19])"
      ]
     },
     "execution_count": 2,
     "metadata": {},
     "output_type": "execute_result"
    }
   ],
   "source": [
    "random.seed(a=2021)\n",
    "\n",
    "m = 2000         # number of variables     (eg : number of voxels in an image)\n",
    "n = 80            # number of observations  (eg : number of images)\n",
    "pi0 = 0.99        # proportion of noise (true null hypotheses)\n",
    "p0 = int(np.round(pi0*m)) # number of true null hypotheses (non active voxels)\n",
    "rho = 0.3        # equi-correlation\n",
    "s = 1          # signal to noise ratio (because sigma is 1 CHECK!)\n",
    "\n",
    "# generate noise\n",
    "Z=np.random.randn(n,m)\n",
    "w=np.random.randn(n)\n",
    "W=Z.copy()\n",
    "for i in range(m):\n",
    "  W[:,i]=w[:] # W has the same w for each subject to ensure the dependence\n",
    "Y=np.sqrt(1-rho)*Z + np.sqrt(rho)*W\n",
    "\n",
    "# cov(Y_n(v), Y_m(v)) = E( sqrt(1-rho)z_n + sqrt(rho)*w,sqrt(1-rho)z_m + sqrt(rho)*w) = (1-rho)delta_{nm} + rho\n",
    "# (as var(w) = 1 = var(z_n) = var(z_m)) (so the text above is wrong!)\n",
    "\n",
    "# add signal (for false null hypotheses)\n",
    "categ=np.random.binomial(1, 0.5, size=n) # Equal probability of each - but ususally not balanced in fact!\n",
    "data = Y.copy()\n",
    "w1=np.where(categ==1)\n",
    "# Add signal to the data when the category is 1! :)\n",
    "data[w1, (p0+1):m] = Y[w1, (p0+1):m] + s\n",
    "\n",
    "# Record where the signal is as a boolean vector\n",
    "bool_signal = np.ones((m,1)) == 0\n",
    "bool_signal[(p0+1):m] = True\n",
    "sum(bool_signal)"
   ]
  },
  {
   "cell_type": "markdown",
   "metadata": {},
   "source": [
    "### JER control using permutation"
   ]
  },
  {
   "cell_type": "code",
   "execution_count": 3,
   "metadata": {},
   "outputs": [
    {
     "name": "stdout",
     "output_type": "stream",
     "text": [
      "Lambda Perm: 0.12708581363933824\n"
     ]
    }
   ],
   "source": [
    "# Initialize the number of bootstraps and the alpha level\n",
    "B = 100; alpha = 0.1;\n",
    "pval0 = sa.get_perm_p(data, categ, B=B , row_test_fun=sa.row_welch_tests)\n",
    "piv_stat = sa.get_pivotal_stats(pval0, K=m)\n",
    "lambda_perm = np.quantile(piv_stat, alpha)\n",
    "\n",
    "print('Lambda Perm:', lambda_perm)\n",
    "thr_perm = sa.t_linear(lambda_perm, np.arange(1,m+1), m)"
   ]
  },
  {
   "cell_type": "markdown",
   "metadata": {},
   "source": [
    "### JER control using bootstrap"
   ]
  },
  {
   "cell_type": "code",
   "execution_count": 4,
   "metadata": {},
   "outputs": [
    {
     "name": "stdout",
     "output_type": "stream",
     "text": [
      "Lambda Boot: 0.100358453624394\n"
     ]
    }
   ],
   "source": [
    "# Generate the design matrix from the category vector\n",
    "X = pr.group_design(categ); \n",
    "\n",
    "# Set the contrast matrix\n",
    "C = np.array([1,-1]); \n",
    "\n",
    "# Run the bootstrap JER algorithm\n",
    "minPperm, orig_pvalues, pivotal_stats, bs = pr.boot_contrasts(data.transpose(), X, C, B)\n",
    "\n",
    "# Obtain the lambda calibration\n",
    "lambda_boot = np.quantile(pivotal_stats, alpha)\n",
    "print('Lambda Boot:', lambda_boot)\n",
    "\n",
    "thr_boot = sa.t_linear(lambda_boot, np.arange(1,m+1), m)"
   ]
  },
  {
   "cell_type": "code",
   "execution_count": 10,
   "metadata": {},
   "outputs": [
    {
     "data": {
      "text/plain": [
       "(array([53., 21.,  9.,  9.,  2.,  3.,  2.,  0.,  0.,  1.]),\n",
       " array([3.50142295e-07, 1.20666598e-03, 2.41298182e-03, 3.61929765e-03,\n",
       "        4.82561349e-03, 6.03192933e-03, 7.23824517e-03, 8.44456100e-03,\n",
       "        9.65087684e-03, 1.08571927e-02, 1.20635085e-02]),\n",
       " <a list of 10 Patch objects>)"
      ]
     },
     "execution_count": 10,
     "metadata": {},
     "output_type": "execute_result"
    },
    {
     "data": {
      "image/png": "[encoded data removed]",
      "text/plain": [
       "<Figure size 432x288 with 1 Axes>"
      ]
     },
     "metadata": {
      "needs_background": "light"
     },
     "output_type": "display_data"
    }
   ],
   "source": [
    "import matplotlib.pyplot as plt \n",
    "plt.hist(minPperm)"
   ]
  },
  {
   "cell_type": "markdown",
   "metadata": {},
   "source": [
    "Calculate the p-values (note that the bootstrap and permutation methods as coded use different two sample test so the p-values are slightly different)"
   ]
  },
  {
   "cell_type": "code",
   "execution_count": 5,
   "metadata": {},
   "outputs": [
    {
     "name": "stdout",
     "output_type": "stream",
     "text": [
      "(2000,)\n"
     ]
    }
   ],
   "source": [
    "rwt = sa.row_welch_tests(data, categ)\n",
    "pvals_perm = rwt['p_value']\n",
    "print(pvals_perm.shape)\n",
    "pval_sort_idx_perm = np.argsort(pvals_perm)\n",
    "\n",
    "pval_sort_idx_boot = np.argsort(np.ravel(orig_pvalues.field))\n",
    "pvals_boot = np.ravel(orig_pvalues.field)[pval_sort_idx_boot]"
   ]
  },
  {
   "cell_type": "markdown",
   "metadata": {},
   "source": [
    "### Compare permutation and bootstrap p-values"
   ]
  },
  {
   "cell_type": "markdown",
   "metadata": {},
   "source": [
    "The p values are very close between the two methods (with use different 2 sample tests) but are slightly different, especially in the tails"
   ]
  },
  {
   "cell_type": "code",
   "execution_count": 6,
   "metadata": {},
   "outputs": [
    {
     "name": "stdout",
     "output_type": "stream",
     "text": [
      "[0.63917763 0.49323313 0.32657717 0.40982476 0.88826736 0.31896352\n",
      " 0.73645652 0.35344167 0.95430008 0.18274765]\n",
      "[3.50142295e-07 4.94043218e-07 7.20987202e-07 1.64444897e-06\n",
      " 1.73839752e-06 1.79073378e-06 9.73966072e-06 1.51552308e-05\n",
      " 2.05811319e-05 2.40550209e-05]\n",
      "[0.56975385 0.93733397 0.9535811  0.72352454 0.18117447 0.12976329\n",
      " 0.39045228 0.19360124 0.84480382 0.05747806]\n",
      "[0.55070123 0.5508132  0.55089891 0.55145169 0.55149242 0.55177795\n",
      " 0.55238609 0.55246376 0.55252821 0.5543148 ]\n"
     ]
    },
    {
     "data": {
      "text/plain": [
       "Text(0.5, 1.0, 'Comparing the p-values from the two methods')"
      ]
     },
     "execution_count": 6,
     "metadata": {},
     "output_type": "execute_result"
    },
    {
     "data": {
      "image/png": "[encoded data removed]",
      "text/plain": [
       "<Figure size 432x288 with 1 Axes>"
      ]
     },
     "metadata": {
      "needs_background": "light"
     },
     "output_type": "display_data"
    }
   ],
   "source": [
    "print(pvals_perm[0:10])\n",
    "print(pvals_boot[0:10])\n",
    "print(pvals_perm[1000:1010])\n",
    "print(pvals_boot[1000:1010])\n",
    "\n",
    "plt.plot(pvals_perm[pval_sort_idx_boot], pvals_boot)\n",
    "plt.xlabel('Permutation p-values')\n",
    "plt.ylabel('Bootstrap p-values')\n",
    "plt.title('Comparing the p-values from the two methods')"
   ]
  },
  {
   "cell_type": "markdown",
   "metadata": {},
   "source": [
    "### Generate a histogram of the p-values"
   ]
  },
  {
   "cell_type": "markdown",
   "metadata": {},
   "source": [
    "Note that for low numbers of voxels this is not uniform because the data is highly correlated"
   ]
  },
  {
   "cell_type": "code",
   "execution_count": 7,
   "metadata": {},
   "outputs": [
    {
     "data": {
      "text/plain": [
       "(array([147., 172., 164., 227., 199., 198., 201., 227., 228., 237.]),\n",
       " array([2.76397989e-07, 9.99811430e-02, 1.99962010e-01, 2.99942876e-01,\n",
       "        3.99923743e-01, 4.99904609e-01, 5.99885476e-01, 6.99866342e-01,\n",
       "        7.99847209e-01, 8.99828076e-01, 9.99808942e-01]),\n",
       " <a list of 10 Patch objects>)"
      ]
     },
     "execution_count": 7,
     "metadata": {},
     "output_type": "execute_result"
    },
    {
     "data": {
      "image/png": "[encoded data removed]",
      "text/plain": [
       "<Figure size 432x288 with 1 Axes>"
      ]
     },
     "metadata": {
      "needs_background": "light"
     },
     "output_type": "display_data"
    }
   ],
   "source": [
    "plt.hist(pvals_perm)"
   ]
  },
  {
   "cell_type": "markdown",
   "metadata": {},
   "source": [
    "### Plot the FPR and TP curve bounds"
   ]
  },
  {
   "cell_type": "code",
   "execution_count": 8,
   "metadata": {},
   "outputs": [
    {
     "name": "stdout",
     "output_type": "stream",
     "text": [
      "The input p-values were not sorted -> this is done now\n"
     ]
    },
    {
     "data": {
      "image/png": "[encoded data removed]",
      "text/plain": [
       "<Figure size 720x288 with 2 Axes>"
      ]
     },
     "metadata": {
      "needs_background": "light"
     },
     "output_type": "display_data"
    }
   ],
   "source": [
    "max_FP_perm = sa.curve_max_fp(pvals_perm, thr_perm)\n",
    "max_FP_boot = sa.curve_max_fp(pvals_boot, thr_boot)\n",
    "\n",
    "# Generate the vector [0,...,m]\n",
    "one2npvals = np.arange(1, m+1)\n",
    "\n",
    "# Choose the number of p-values (always the smallest ones first) to plot\n",
    "lowestnumber = 100\n",
    "\n",
    "# Ensure that selected number is not greater than the total number of p-values\n",
    "lowestnumber = np.min([lowestnumber,m])\n",
    "\n",
    "# Dividing the envelope by the number of elements in the set gives a bound on the false discovery proportion\n",
    "max_FDP_boot = max_FP_boot[0:lowestnumber]/ one2npvals[0:lowestnumber] \n",
    "min_TP_boot = one2npvals[0:lowestnumber] - max_FP_boot[0:lowestnumber]\n",
    "max_FDP_perm = max_FP_perm[0:lowestnumber]/ one2npvals[0:lowestnumber] \n",
    "min_TP_perm = one2npvals[0:lowestnumber] - max_FP_perm[0:lowestnumber]\n",
    "\n",
    "# Calculate the truth (to determine if it is correctly bounded!)\n",
    "sorted_signal = bool_signal[pval_sort_idx_boot]\n",
    "TP = np.zeros(lowestnumber)\n",
    "for I in np.arange(lowestnumber):\n",
    "    TP[I] = np.sum(sorted_signal[0:I+1])\n",
    "    \n",
    "# Calculate the true FDP for each subset\n",
    "FP = np.zeros(lowestnumber)\n",
    "for I in np.arange(lowestnumber):\n",
    "    FP[I] = np.sum(abs(sorted_signal[0:I+1]-1))\n",
    "true_FDP = FP/one2npvals[0:lowestnumber] \n",
    "    \n",
    "# Initialize the figure\n",
    "figure = plt.figure(figsize=(10,4))\n",
    "\n",
    "# Plot the false discovery proportion and its bound\n",
    "plt.subplot(121)\n",
    "plt.plot(max_FDP_boot, label = 'Bootstrap FDP bound')\n",
    "plt.plot(max_FDP_perm, label = 'Permutation FDP bound')\n",
    "plt.plot(true_FDP, label = 'True FDP')\n",
    "plt.title('Upper bound on FDP amongst smallest p-values')\n",
    "plt.xlim(1, lowestnumber)\n",
    "plt.xlabel('k')\n",
    "plt.ylabel('FDP(p_{(1)}, \\dots, p_{(k)}')\n",
    "plt.legend(loc=\"lower right\")\n",
    "\n",
    "# Plot the true postives and their bound\n",
    "plt.subplot(122)\n",
    "plt.plot(min_TP_perm, label = 'Bootstrap TP bound')\n",
    "plt.plot(min_TP_perm, label = 'Permutation TP bound')\n",
    "plt.plot(TP, label = 'True Positives')\n",
    "plt.title('Lower bound on TP')\n",
    "plt.legend(loc=\"lower right\")\n",
    "plt.xlim(1, lowestnumber)\n",
    "plt.xlabel('k')\n",
    "plt.ylabel('TP(p_{(1)}, \\dots, p_{(k)}')\n",
    "#figure, axes = plt.subplots(nrows=1, ncols=2) \n",
    "figure.tight_layout(pad=1.0)"
   ]
  },
  {
   "cell_type": "markdown",
   "metadata": {},
   "source": [
    "### Analyzing the impact of lambda changes on the FDP curve"
   ]
  },
  {
   "cell_type": "markdown",
   "metadata": {},
   "source": [
    "Suprisingly the value of lambda doesn't appear to make much of a difference!"
   ]
  },
  {
   "cell_type": "code",
   "execution_count": 9,
   "metadata": {},
   "outputs": [
    {
     "name": "stdout",
     "output_type": "stream",
     "text": [
      "Lambda Perm: 0.10737013223598435\n",
      "[0.  0.1 0.2 0.3 0.4 0.5 0.6 0.7 0.8 0.9]\n",
      "The input p-values were not sorted -> this is done now\n",
      "The input p-values were not sorted -> this is done now\n",
      "The input p-values were not sorted -> this is done now\n",
      "The input p-values were not sorted -> this is done now\n",
      "The input p-values were not sorted -> this is done now\n",
      "The input p-values were not sorted -> this is done now\n",
      "The input p-values were not sorted -> this is done now\n",
      "The input p-values were not sorted -> this is done now\n",
      "The input p-values were not sorted -> this is done now\n"
     ]
    },
    {
     "data": {
      "text/plain": [
       "<matplotlib.legend.Legend at 0x1b977bc8>"
      ]
     },
     "execution_count": 9,
     "metadata": {},
     "output_type": "execute_result"
    },
    {
     "data": {
      "image/png": "[encoded data removed]",
      "text/plain": [
       "<Figure size 432x288 with 1 Axes>"
      ]
     },
     "metadata": {
      "needs_background": "light"
     },
     "output_type": "display_data"
    }
   ],
   "source": [
    "# Initialize the number of bootstraps and the alpha level\n",
    "B = 100; alpha = 0.1;\n",
    "pval0 = sa.get_perm_p(data, categ, B=B , row_test_fun=sa.row_welch_tests)\n",
    "piv_stat = sa.get_pivotal_stats(pval0, K=m)\n",
    "lambda_perm = np.quantile(piv_stat, alpha)\n",
    "\n",
    "print('Lambda Perm:', lambda_perm)\n",
    "thr_perm = sa.t_linear(lambda_perm, np.arange(1,m+1), m)\n",
    "\n",
    "n2use = 100;\n",
    "lambda_set = np.arange(10)/10\n",
    "print(lambda_set)\n",
    "lambda_set = lambda_set[1:]\n",
    "for I in np.arange(len(lambda_set)):\n",
    "    thresh = sa.t_linear(lambda_set[I], np.arange(1,m+1), m)\n",
    "    max_FP_perm = sa.curve_max_fp(pvals_perm, thresh)\n",
    "    max_FDP_perm = max_FP_perm[0:n2use]/one2npvals[0:n2use] \n",
    "    plt.plot(max_FDP_perm)\n",
    "plt.plot(true_FDP[0:n2use], label = 'True FDP')\n",
    "plt.legend(loc=\"lower right\")"
   ]
  },
  {
   "cell_type": "code",
   "execution_count": 63,
   "metadata": {},
   "outputs": [
    {
     "name": "stdout",
     "output_type": "stream",
     "text": [
      "[0.1 0.2 0.3 0.4 0.5 0.6 0.7 0.8 0.9]\n",
      "The input p-values were not sorted -> this is done now\n",
      "The input p-values were not sorted -> this is done now\n",
      "The input p-values were not sorted -> this is done now\n",
      "The input p-values were not sorted -> this is done now\n",
      "The input p-values were not sorted -> this is done now\n",
      "The input p-values were not sorted -> this is done now\n",
      "The input p-values were not sorted -> this is done now\n",
      "The input p-values were not sorted -> this is done now\n",
      "The input p-values were not sorted -> this is done now\n"
     ]
    },
    {
     "data": {
      "text/plain": [
       "<matplotlib.legend.Legend at 0x1a930a60>"
      ]
     },
     "execution_count": 63,
     "metadata": {},
     "output_type": "execute_result"
    },
    {
     "data": {
      "image/png": "[encoded data removed]",
      "text/plain": [
       "<Figure size 432x288 with 1 Axes>"
      ]
     },
     "metadata": {
      "needs_background": "light"
     },
     "output_type": "display_data"
    }
   ],
   "source": [
    "lambda_set = np.arange(10)/10\n",
    "lambda_set = lambda_set[1:]\n",
    "print(lambda_set)\n",
    "n2use = 100\n",
    "for I in np.arange(len(lambda_set)):\n",
    "    thresh = sa.t_linear(lambda_set[I], np.arange(1,m+1), m)\n",
    "    max_FP_perm = sa.curve_max_fp(pvals_perm, thresh)\n",
    "    min_TP_perm = np.arange(1,m+1) - max_FP_perm\n",
    "    plt.plot(min_TP_perm[0:n2use])\n",
    "plt.plot(TP[0:n2use], label = 'True FDP')\n",
    "plt.legend(loc=\"lower right\")"
   ]
  },
  {
   "cell_type": "markdown",
   "metadata": {},
   "source": [
    "Analyzing for very low lambda"
   ]
  },
  {
   "cell_type": "code",
   "execution_count": 11,
   "metadata": {},
   "outputs": [
    {
     "name": "stdout",
     "output_type": "stream",
     "text": [
      "The input p-values were not sorted -> this is done now\n",
      "The input p-values were not sorted -> this is done now\n",
      "The input p-values were not sorted -> this is done now\n",
      "The input p-values were not sorted -> this is done now\n",
      "The input p-values were not sorted -> this is done now\n",
      "The input p-values were not sorted -> this is done now\n",
      "The input p-values were not sorted -> this is done now\n",
      "The input p-values were not sorted -> this is done now\n",
      "The input p-values were not sorted -> this is done now\n",
      "The input p-values were not sorted -> this is done now\n"
     ]
    },
    {
     "data": {
      "text/plain": [
       "[<matplotlib.lines.Line2D at 0x1b01f688>]"
      ]
     },
     "execution_count": 11,
     "metadata": {},
     "output_type": "execute_result"
    },
    {
     "data": {
      "image/png": "[encoded data removed]",
      "text/plain": [
       "<Figure size 432x288 with 1 Axes>"
      ]
     },
     "metadata": {
      "needs_background": "light"
     },
     "output_type": "display_data"
    }
   ],
   "source": [
    "lambda_set = np.arange(10)/10000\n",
    "for I in np.arange(len(lambda_set)):\n",
    "    thresh = sa.t_linear(lambda_set[I], np.arange(1,m+1), m)\n",
    "    max_FP_perm = sa.curve_max_fp(pvals_perm, thresh)\n",
    "    plt.plot(max_FDP_perm)\n",
    "plt.plot(true_FDP, label = 'True FDP')"
   ]
  },
  {
   "cell_type": "markdown",
   "metadata": {},
   "source": [
    "## One Sample Example"
   ]
  },
  {
   "cell_type": "code",
   "execution_count": 9,
   "metadata": {},
   "outputs": [],
   "source": [
    "random.seed(a=2021)\n",
    "\n",
    "m = 2000         # number of variables     (eg : number of voxels in an image)\n",
    "n = 80            # number of observations  (eg : number of images)\n",
    "pi0 = 0.99        # proportion of noise (true null hypotheses)\n",
    "p0 = int(np.round(pi0*m)) # number of true null hypotheses (non active voxels)\n",
    "rho = 0.3        # equi-correlation\n",
    "\n",
    "# generate noise\n",
    "Z=np.random.randn(n,m)\n",
    "w=np.random.randn(n)\n",
    "W=Z.copy()\n",
    "for i in range(m):\n",
    "  W[:,i]=w[:] # W has the same w for each subject to ensure the dependence\n",
    "Y=np.sqrt(1-rho)*Z + np.sqrt(rho)*W\n",
    "\n",
    "# cov(Y_n(v), Y_m(v)) = E( sqrt(1-rho)z_n + sqrt(rho)*w,sqrt(1-rho)z_m + sqrt(rho)*w) = (1-rho)delta_{nm} + rho\n",
    "# (as var(w) = 1 = var(z_n) = var(z_m)) (so the text above is wrong!)\n",
    "\n",
    "# add signal (for false null hypotheses)\n",
    "categ = np.zeros(n) # Equal probability of each - but ususally not balanced in fact!\n",
    "data = Y.copy()"
   ]
  },
  {
   "cell_type": "markdown",
   "metadata": {},
   "source": [
    "### Running bootstrap procedure"
   ]
  },
  {
   "cell_type": "code",
   "execution_count": 30,
   "metadata": {},
   "outputs": [
    {
     "name": "stdout",
     "output_type": "stream",
     "text": [
      "Lambda Boot: 0.20230749115541793\n"
     ]
    }
   ],
   "source": [
    "# Generate the design matrix from the category vector\n",
    "X = pr.group_design(categ)\n",
    "\n",
    "# Set the contrast matrix\n",
    "C = np.array(1)\n",
    "\n",
    "B = 100; alpha = 0.1\n",
    "\n",
    "# Run the bootstrap JER algorithm\n",
    "minPperm, orig_pvalues, pivotal_stats, _ = pr.boot_contrasts(data.transpose(), X, C, n_bootstraps = B)\n",
    "\n",
    "# Obtain the lambda calibration\n",
    "lambda_boot = np.quantile(pivotal_stats, alpha)\n",
    "print('Lambda Boot:', lambda_boot)\n",
    "\n",
    "thr_boot = sa.t_linear(lambda_boot, np.arange(1,m+1), m)"
   ]
  },
  {
   "cell_type": "code",
   "execution_count": 27,
   "metadata": {},
   "outputs": [
    {
     "name": "stdout",
     "output_type": "stream",
     "text": [
      "1000\n"
     ]
    }
   ],
   "source": [
    "print(len(pivotal_stats))"
   ]
  },
  {
   "cell_type": "code",
   "execution_count": null,
   "metadata": {},
   "outputs": [],
   "source": [
    "# Running permutation procedure"
   ]
  },
  {
   "cell_type": "code",
   "execution_count": 33,
   "metadata": {},
   "outputs": [
    {
     "name": "stdout",
     "output_type": "stream",
     "text": [
      "Lambda Perm: 0.16213656635544443\n"
     ]
    }
   ],
   "source": [
    "# Initialize the number of bootstraps and the alpha level\n",
    "B = 100; alpha = 0.1;\n",
    "pval0 = sa.get_permuted_p_values_one_sample(data, B=1000)\n",
    "piv_stat = sa.get_pivotal_stats(pval0)\n",
    "lambda_perm = np.quantile(piv_stat, alpha)\n",
    "\n",
    "print('Lambda Perm:', lambda_perm)\n",
    "thr_perm = sa.t_linear(lambda_perm, np.arange(1,m+1), m)"
   ]
  },
  {
   "cell_type": "code",
   "execution_count": null,
   "metadata": {},
   "outputs": [],
   "source": [
    "thr_simes = sa.t_linear(alpha, np.arange(1, p + 1), p)\n",
    "sa.min_tp(cluster_p_values, thr)"
   ]
  }
 ],
 "metadata": {
  "kernelspec": {
   "display_name": "Python 3",
   "language": "python",
   "name": "python3"
  },
  "language_info": {
   "codemirror_mode": {
    "name": "ipython",
    "version": 3
   },
   "file_extension": ".py",
   "mimetype": "text/x-python",
   "name": "python",
   "nbconvert_exporter": "python",
   "pygments_lexer": "ipython3",
   "version": "3.8.3"
  }
 },
 "nbformat": 4,
 "nbformat_minor": 4
}
