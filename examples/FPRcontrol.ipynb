{
 "cells": [
  {
   "cell_type": "markdown",
   "metadata": {},
   "source": [
    "# Testing False Positive Rate control"
   ]
  },
  {
   "cell_type": "markdown",
   "metadata": {},
   "source": [
    "In this notebook we test the FPR control that results from applying the bootstrap method."
   ]
  },
  {
   "cell_type": "code",
   "execution_count": 7,
   "metadata": {},
   "outputs": [],
   "source": [
    "import pyrft as pr\n",
    "import sanssouci as ss\n",
    "import numpy as np\n",
    "from sklearn.utils import check_random_state\n",
    "rng = check_random_state(101)"
   ]
  },
  {
   "cell_type": "markdown",
   "metadata": {},
   "source": [
    "## FWER control"
   ]
  },
  {
   "cell_type": "code",
   "execution_count": null,
   "metadata": {},
   "outputs": [],
   "source": [
    "# %% Multiple contrasts - global null is false\n",
    "alpha = 0.1; niters = 1000;\n",
    "Dim = (10,10); N = 30; \n",
    "categ = rng.choice(3, N, replace = True)\n",
    "X = pr.groupX(categ); \n",
    "C = np.array([1,-1,0]); \n",
    "B = 100\n",
    "\n",
    "number_of_false_positives = 0\n",
    "store_origs = np.zeros((1,niters))\n",
    "for I in np.arange(niters):\n",
    "    print(I)\n",
    "    lat_data = pr.wfield(Dim,N)\n",
    "    minPperm, orig_pvalues, pivotal_stats, _ = pr.boot_contrasts(lat_data, X, C, B)\n",
    "    alpha_quantile = np.quantile(minPperm, alpha)\n",
    "    store_origs[0,I] = minPperm[0]\n",
    "    if minPperm[0] < alpha_quantile:\n",
    "        number_of_false_positives = number_of_false_positives + 1\n",
    "        \n",
    "FPR = number_of_false_positives/niters"
   ]
  },
  {
   "cell_type": "markdown",
   "metadata": {},
   "source": [
    "## JER control"
   ]
  },
  {
   "cell_type": "code",
   "execution_count": null,
   "metadata": {},
   "outputs": [],
   "source": [
    "This script checks the JER control (but can take a few minutes)"
   ]
  },
  {
   "cell_type": "code",
   "execution_count": 24,
   "metadata": {},
   "outputs": [
    {
     "name": "stdout",
     "output_type": "stream",
     "text": [
      "0\n",
      "100\n",
      "200\n",
      "300\n",
      "400\n",
      "500\n",
      "600\n",
      "700\n",
      "800\n",
      "900\n",
      "FPR:  0.121  +/-  0.0202\n"
     ]
    }
   ],
   "source": [
    "# %% Testing the JER control (global null)\n",
    "niters = 1000\n",
    "alpha = 0.1\n",
    "B = 100\n",
    "\n",
    "Dim = (20,20); N = 30; \n",
    "C = np.array([[1,-1,0],[0,1,-1]]); \n",
    "\n",
    "m = np.prod(Dim)\n",
    "\n",
    "nbelow = 0 # Initialize the FPR counter\n",
    "\n",
    "for I in np.arange(niters):\n",
    "    # Keep track of the progress.\n",
    "    pr.modul(I,100)\n",
    "    \n",
    "    categ = rng.choice(3, N, replace = True)\n",
    "    X = pr.groupX(categ); lat_data = pr.wfield(Dim,N)\n",
    "    # If you want to test it when you add signal!\n",
    "    # w0=np.where(categ==0)\n",
    "    # lat_data.field[:,:,w0] = lat_data.field[:, :, w0] + signal\n",
    "    \n",
    "    minPperm, orig_pvalues, pivotal_stats, _ = pr.boot_contrasts(lat_data, X, C, B)\n",
    "    lambda_quant = np.quantile(pivotal_stats, alpha)\n",
    "\n",
    "    if pivotal_stats[0] < lambda_quant:\n",
    "        nbelow = nbelow + 1\n",
    "\n",
    "# Calculate the false positive rate\n",
    "FPR = nbelow/niters\n",
    "\n",
    "# Calculate the standard error\n",
    "std_error = 1.96*np.sqrt(FPR*(1-FPR)/niters)\n",
    "\n",
    "# Print the result\n",
    "print('FPR: ', FPR, ' +/- ', round(std_error,4))"
   ]
  },
  {
   "cell_type": "code",
   "execution_count": 22,
   "metadata": {},
   "outputs": [
    {
     "name": "stdout",
     "output_type": "stream",
     "text": [
      "FPR:  0.113  +/-  0.0196\n"
     ]
    }
   ],
   "source": []
  },
  {
   "cell_type": "code",
   "execution_count": 17,
   "metadata": {},
   "outputs": [
    {
     "data": {
      "text/plain": [
       "0.113"
      ]
     },
     "execution_count": 17,
     "metadata": {},
     "output_type": "execute_result"
    }
   ],
   "source": [
    "FPR"
   ]
  }
 ],
 "metadata": {
  "kernelspec": {
   "display_name": "Python 3",
   "language": "python",
   "name": "python3"
  },
  "language_info": {
   "codemirror_mode": {
    "name": "ipython",
    "version": 3
   },
   "file_extension": ".py",
   "mimetype": "text/x-python",
   "name": "python",
   "nbconvert_exporter": "python",
   "pygments_lexer": "ipython3",
   "version": "3.8.3"
  }
 },
 "nbformat": 4,
 "nbformat_minor": 4
}
