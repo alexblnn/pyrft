{
 "cells": [
  {
   "cell_type": "markdown",
   "metadata": {},
   "source": [
    "## FDP inference within selected clusters"
   ]
  },
  {
   "cell_type": "markdown",
   "metadata": {},
   "source": [
    "Import the necessary packages"
   ]
  },
  {
   "cell_type": "code",
   "execution_count": 1,
   "metadata": {},
   "outputs": [],
   "source": [
    "import numpy as np\n",
    "import numpy.matlib as npm\n",
    "import matplotlib.pyplot as plt \n",
    "import sys\n",
    "sys.path.insert(0, 'C:\\\\Users\\\\12SDa\\\\davenpor\\\\davenpor\\\\Toolboxes\\\\pyrft' )\n",
    "import pyrft as pr\n",
    "import sanssouci as sa"
   ]
  },
  {
   "cell_type": "code",
   "execution_count": 60,
   "metadata": {},
   "outputs": [
    {
     "data": {
      "text/plain": [
       "<matplotlib.image.AxesImage at 0x527b748>"
      ]
     },
     "execution_count": 60,
     "metadata": {},
     "output_type": "execute_result"
    },
    {
     "data": {
      "image/png": "[encoded data removed]",
      "text/plain": [
       "<Figure size 432x288 with 1 Axes>"
      ]
     },
     "metadata": {
      "needs_background": "light"
     },
     "output_type": "display_data"
    }
   ],
   "source": [
    "# Set the dimension of the example and the number of subjects\n",
    "Dim = (50,50); N = 30; m = np.prod(Dim)\n",
    "\n",
    "# Generate the category vector and obtain the corresponding design matrix\n",
    "from sklearn.utils import check_random_state\n",
    "rng = check_random_state(101)\n",
    "categ = rng.choice(3, N, replace = True)\n",
    "X = pr.groupX(categ); \n",
    "\n",
    "# Specify the contrast matrix (here 2 contrasts are chosen)\n",
    "C = np.array([[1,-1,0],[0,1,-1]]); \n",
    "\n",
    "# Calulate the number contrasts\n",
    "L = C.shape[0]\n",
    "\n",
    "# Calculate the number of p-values generated (L for each voxels)\n",
    "npvals = m*L\n",
    "\n",
    "# Generate a stationary random field with given FWHM\n",
    "FWHM = 4; lat_data = pr.statnoise(Dim, N, FWHM)\n",
    "\n",
    "# Plot a sample realization of the noise\n",
    "plt.imshow(lat_data.field[:,:,1])  "
   ]
  },
  {
   "cell_type": "markdown",
   "metadata": {},
   "source": [
    "Calculate the t-statistics"
   ]
  },
  {
   "cell_type": "code",
   "execution_count": 5,
   "metadata": {},
   "outputs": [
    {
     "data": {
      "text/plain": [
       "<matplotlib.image.AxesImage at 0x1eeb1670>"
      ]
     },
     "execution_count": 5,
     "metadata": {},
     "output_type": "execute_result"
    },
    {
     "data": {
      "image/png": "[encoded data removed]",
      "text/plain": [
       "<Figure size 432x288 with 1 Axes>"
      ]
     },
     "metadata": {
      "needs_background": "light"
     },
     "output_type": "display_data"
    }
   ],
   "source": [
    "tstat_image, residuals = pr.contrast_tstats(lat_data, X, C)\n",
    "plt.imshow(tstat_image.field[:,:,1])"
   ]
  },
  {
   "cell_type": "code",
   "execution_count": 38,
   "metadata": {},
   "outputs": [
    {
     "name": "stdout",
     "output_type": "stream",
     "text": [
      "(5000, 100)\n",
      "(1, 5000)\n",
      "Lambda Quantile: 0.267437500462914\n"
     ]
    }
   ],
   "source": [
    "# Specify the number of bootstraps to use\n",
    "B = 100; alpha = 0.1\n",
    "\n",
    "# Run the bootstrapped algorithm\n",
    "minPperm, orig_pvalues, pivotal_stats, bs = pr.boot_contrasts(lat_data, X, C, B, 'linear', True, 1)\n",
    "\n",
    "# Calculate the post-hoc bound\n",
    "lambda_quant = np.quantile(pivotal_stats, alpha)\n",
    "print('Lambda Quantile:', lambda_quant)\n",
    "\n",
    "# Calculate the number of voxels in the mask\n",
    "m = np.sum(lat_data.mask[:])\n",
    "\n",
    "# Gives t_k^L(lambda) = lambda*k/m for k = 1, ..., m\n",
    "thr = sa.t_linear(lambda_quant, np.arange(1,m+1), m)"
   ]
  },
  {
   "cell_type": "code",
   "execution_count": 39,
   "metadata": {},
   "outputs": [
    {
     "data": {
      "text/plain": [
       "<matplotlib.image.AxesImage at 0x1a964be0>"
      ]
     },
     "execution_count": 39,
     "metadata": {},
     "output_type": "execute_result"
    },
    {
     "data": {
      "image/png": "[encoded data removed]",
      "text/plain": [
       "<Figure size 432x288 with 1 Axes>"
      ]
     },
     "metadata": {
      "needs_background": "light"
     },
     "output_type": "display_data"
    }
   ],
   "source": [
    "clusters = pr.find_clusters(orig_pvalues.field[:,:,1], CDT = 0.01, below = 1)\n",
    "plt.imshow(clusters)"
   ]
  },
  {
   "cell_type": "code",
   "execution_count": 40,
   "metadata": {},
   "outputs": [
    {
     "name": "stdout",
     "output_type": "stream",
     "text": [
      "11.0\n",
      "11\n",
      "10.0\n",
      "10\n",
      "2.0\n",
      "2\n",
      "4.0\n",
      "4\n",
      "5.0\n",
      "5\n",
      "4.0\n",
      "4\n"
     ]
    }
   ],
   "source": [
    "n_clusters = np.max(clusters)\n",
    "for I in np.arange(n_clusters):\n",
    "    voxelsincluster = np.array(clusters == (I+1), dtype = bool)\n",
    "    cluster_pvalues = orig_pvalues.field[:,:,1][voxelsincluster]\n",
    "    bound = sa.max_fp(cluster_pvalues, thr)\n",
    "    print(bound)\n",
    "    print(np.sum(voxelsincluster == 1))"
   ]
  },
  {
   "cell_type": "markdown",
   "metadata": {},
   "source": [
    "## Add some spatial signal"
   ]
  },
  {
   "cell_type": "code",
   "execution_count": 61,
   "metadata": {},
   "outputs": [],
   "source": [
    "signal = np.zeros(Dim)\n",
    "signal[10:20,10:20] = 0.4\n",
    "signal[30:35,30:35] = 0.4\n",
    "w2 = np.where(categ==2)[0]\n",
    "\n",
    "# Add the signal to the field\n",
    "for I in np.arange(len(w2)):\n",
    "    lat_data.field[:,:,w2[I]] = lat_data.field[:,:,w2[I]] + signal\n"
   ]
  },
  {
   "cell_type": "code",
   "execution_count": 62,
   "metadata": {},
   "outputs": [
    {
     "name": "stdout",
     "output_type": "stream",
     "text": [
      "(5000, 100)\n",
      "(1, 5000)\n",
      "Lambda Quantile: 0.29937262749398785\n"
     ]
    }
   ],
   "source": [
    "# Specify the number of bootstraps to use\n",
    "B = 100; alpha = 0.1\n",
    "\n",
    "# Run the bootstrapped algorithm\n",
    "minPperm, orig_pvalues, pivotal_stats, bs = pr.boot_contrasts(lat_data, X, C, B, 'linear', True, 1)\n",
    "\n",
    "# Calculate the post-hoc bound\n",
    "lambda_quant = np.quantile(pivotal_stats, alpha)\n",
    "print('Lambda Quantile:', lambda_quant)\n",
    "\n",
    "# Calculate the number of voxels in the mask\n",
    "m = np.sum(lat_data.mask[:])\n",
    "\n",
    "# Gives t_k^L(lambda) = lambda*k/m for k = 1, ..., m\n",
    "thr = sa.t_linear(lambda_quant, np.arange(1,m+1), m)"
   ]
  },
  {
   "cell_type": "code",
   "execution_count": 63,
   "metadata": {},
   "outputs": [
    {
     "data": {
      "text/plain": [
       "<matplotlib.image.AxesImage at 0x52a8820>"
      ]
     },
     "execution_count": 63,
     "metadata": {},
     "output_type": "execute_result"
    },
    {
     "data": {
      "image/png": "[encoded data removed]",
      "text/plain": [
       "<Figure size 432x288 with 1 Axes>"
      ]
     },
     "metadata": {
      "needs_background": "light"
     },
     "output_type": "display_data"
    }
   ],
   "source": [
    "clusters = pr.find_clusters(orig_pvalues.field[:,:,1], CDT = 0.01, below = 1)\n",
    "plt.imshow(clusters)"
   ]
  },
  {
   "cell_type": "code",
   "execution_count": 64,
   "metadata": {},
   "outputs": [
    {
     "name": "stdout",
     "output_type": "stream",
     "text": [
      "18.0\n",
      "22\n",
      "11.0\n",
      "11\n",
      "11.0\n",
      "11\n",
      "26.0\n",
      "32\n",
      "16.0\n",
      "17\n"
     ]
    }
   ],
   "source": [
    "n_clusters = np.max(clusters)\n",
    "for I in np.arange(n_clusters):\n",
    "    voxelsincluster = np.array(clusters == (I+1), dtype = bool)\n",
    "    cluster_pvalues = orig_pvalues.field[:,:,1][voxelsincluster]\n",
    "    bound = sa.max_fp(cluster_pvalues, thr)\n",
    "    print(bound)\n",
    "    print(np.sum(voxelsincluster == 1))"
   ]
  }
 ],
 "metadata": {
  "kernelspec": {
   "display_name": "Python 3",
   "language": "python",
   "name": "python3"
  },
  "language_info": {
   "codemirror_mode": {
    "name": "ipython",
    "version": 3
   },
   "file_extension": ".py",
   "mimetype": "text/x-python",
   "name": "python",
   "nbconvert_exporter": "python",
   "pygments_lexer": "ipython3",
   "version": "3.8.3"
  }
 },
 "nbformat": 4,
 "nbformat_minor": 4
}
